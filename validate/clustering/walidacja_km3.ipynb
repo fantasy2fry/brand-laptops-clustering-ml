{
 "cells": [
  {
   "cell_type": "markdown",
   "metadata": {},
   "source": [
    "# Walidacja km3"
   ]
  },
  {
   "cell_type": "markdown",
   "metadata": {},
   "source": [
    "Przy wyborze modelu/modeli warto kierować się metrykami takimi jak silhouette itd, ale warto też patrzeć zdroworozsądkowo czy otrzymane klastry mają sens. Model może mieć super metryki ale klasyfikowac np komputery biurowe za 2000 z gamingowymi za 5000, a nie o to nam chodzi.\n",
    "Finalny model powinien byc wybrany za równo patrząc na metryki jak i przy uzyciu wiedzy eksperckiej."
   ]
  }
 ],
 "metadata": {
  "kernelspec": {
   "display_name": "Python 3",
   "language": "python",
   "name": "python3"
  },
  "language_info": {
   "name": "python",
   "version": "3.12.2"
  }
 },
 "nbformat": 4,
 "nbformat_minor": 2
}
