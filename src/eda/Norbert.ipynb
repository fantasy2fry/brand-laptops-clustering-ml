{
 "cells": [
  {
   "cell_type": "code",
   "execution_count": 1,
   "id": "initial_id",
   "metadata": {
    "collapsed": true,
    "ExecuteTime": {
     "end_time": "2024-05-08T10:11:59.725097Z",
     "start_time": "2024-05-08T10:11:59.706599Z"
    }
   },
   "outputs": [
    {
     "data": {
      "text/plain": "   index   brand                                              Model  Price  \\\n0      1   tecno  Tecno Megabook T1 Laptop (11th Gen Core i3/ 8G...  23990   \n1      2   tecno  Tecno Megabook T1 Laptop (11th Gen Core i7/ 16...  35990   \n2      3      hp  HP Victus 15-fb0157AX Gaming Laptop (AMD Ryzen...  51100   \n3      4    acer  Acer Extensa EX214-53 Laptop (12th Gen Core i5...  39990   \n4      5  lenovo  Lenovo V15 82KDA01BIH Laptop (AMD Ryzen 3 5300...  28580   \n\n   Rating processor_brand processor_tier  num_cores  num_threads  ram_memory  \\\n0      63           intel        core i3          2            4           8   \n1      67           intel        core i7          4            8          16   \n2      73             amd        ryzen 5          6           12           8   \n3      62           intel        core i5         12           16           8   \n4      62             amd        ryzen 3          4            8           8   \n\n   ... secondary_storage_type  secondary_storage_capacity gpu_brand  \\\n0  ...   No secondary storage                           0     intel   \n1  ...   No secondary storage                           0     intel   \n2  ...   No secondary storage                           0       amd   \n3  ...   No secondary storage                           0     intel   \n4  ...   No secondary storage                           0       amd   \n\n     gpu_type is_touch_screen display_size  resolution_width  \\\n0  integrated           False         15.6              1920   \n1  integrated           False         15.6              1920   \n2   dedicated           False         15.6              1920   \n3  integrated           False         14.0              1920   \n4  integrated           False         15.6              1920   \n\n   resolution_height       OS  year_of_warranty  \n0               1080  windows                 1  \n1               1080  windows                 1  \n2               1080  windows                 1  \n3               1080  windows                 1  \n4               1080  windows                 1  \n\n[5 rows x 22 columns]",
      "text/html": "<div>\n<style scoped>\n    .dataframe tbody tr th:only-of-type {\n        vertical-align: middle;\n    }\n\n    .dataframe tbody tr th {\n        vertical-align: top;\n    }\n\n    .dataframe thead th {\n        text-align: right;\n    }\n</style>\n<table border=\"1\" class=\"dataframe\">\n  <thead>\n    <tr style=\"text-align: right;\">\n      <th></th>\n      <th>index</th>\n      <th>brand</th>\n      <th>Model</th>\n      <th>Price</th>\n      <th>Rating</th>\n      <th>processor_brand</th>\n      <th>processor_tier</th>\n      <th>num_cores</th>\n      <th>num_threads</th>\n      <th>ram_memory</th>\n      <th>...</th>\n      <th>secondary_storage_type</th>\n      <th>secondary_storage_capacity</th>\n      <th>gpu_brand</th>\n      <th>gpu_type</th>\n      <th>is_touch_screen</th>\n      <th>display_size</th>\n      <th>resolution_width</th>\n      <th>resolution_height</th>\n      <th>OS</th>\n      <th>year_of_warranty</th>\n    </tr>\n  </thead>\n  <tbody>\n    <tr>\n      <th>0</th>\n      <td>1</td>\n      <td>tecno</td>\n      <td>Tecno Megabook T1 Laptop (11th Gen Core i3/ 8G...</td>\n      <td>23990</td>\n      <td>63</td>\n      <td>intel</td>\n      <td>core i3</td>\n      <td>2</td>\n      <td>4</td>\n      <td>8</td>\n      <td>...</td>\n      <td>No secondary storage</td>\n      <td>0</td>\n      <td>intel</td>\n      <td>integrated</td>\n      <td>False</td>\n      <td>15.6</td>\n      <td>1920</td>\n      <td>1080</td>\n      <td>windows</td>\n      <td>1</td>\n    </tr>\n    <tr>\n      <th>1</th>\n      <td>2</td>\n      <td>tecno</td>\n      <td>Tecno Megabook T1 Laptop (11th Gen Core i7/ 16...</td>\n      <td>35990</td>\n      <td>67</td>\n      <td>intel</td>\n      <td>core i7</td>\n      <td>4</td>\n      <td>8</td>\n      <td>16</td>\n      <td>...</td>\n      <td>No secondary storage</td>\n      <td>0</td>\n      <td>intel</td>\n      <td>integrated</td>\n      <td>False</td>\n      <td>15.6</td>\n      <td>1920</td>\n      <td>1080</td>\n      <td>windows</td>\n      <td>1</td>\n    </tr>\n    <tr>\n      <th>2</th>\n      <td>3</td>\n      <td>hp</td>\n      <td>HP Victus 15-fb0157AX Gaming Laptop (AMD Ryzen...</td>\n      <td>51100</td>\n      <td>73</td>\n      <td>amd</td>\n      <td>ryzen 5</td>\n      <td>6</td>\n      <td>12</td>\n      <td>8</td>\n      <td>...</td>\n      <td>No secondary storage</td>\n      <td>0</td>\n      <td>amd</td>\n      <td>dedicated</td>\n      <td>False</td>\n      <td>15.6</td>\n      <td>1920</td>\n      <td>1080</td>\n      <td>windows</td>\n      <td>1</td>\n    </tr>\n    <tr>\n      <th>3</th>\n      <td>4</td>\n      <td>acer</td>\n      <td>Acer Extensa EX214-53 Laptop (12th Gen Core i5...</td>\n      <td>39990</td>\n      <td>62</td>\n      <td>intel</td>\n      <td>core i5</td>\n      <td>12</td>\n      <td>16</td>\n      <td>8</td>\n      <td>...</td>\n      <td>No secondary storage</td>\n      <td>0</td>\n      <td>intel</td>\n      <td>integrated</td>\n      <td>False</td>\n      <td>14.0</td>\n      <td>1920</td>\n      <td>1080</td>\n      <td>windows</td>\n      <td>1</td>\n    </tr>\n    <tr>\n      <th>4</th>\n      <td>5</td>\n      <td>lenovo</td>\n      <td>Lenovo V15 82KDA01BIH Laptop (AMD Ryzen 3 5300...</td>\n      <td>28580</td>\n      <td>62</td>\n      <td>amd</td>\n      <td>ryzen 3</td>\n      <td>4</td>\n      <td>8</td>\n      <td>8</td>\n      <td>...</td>\n      <td>No secondary storage</td>\n      <td>0</td>\n      <td>amd</td>\n      <td>integrated</td>\n      <td>False</td>\n      <td>15.6</td>\n      <td>1920</td>\n      <td>1080</td>\n      <td>windows</td>\n      <td>1</td>\n    </tr>\n  </tbody>\n</table>\n<p>5 rows × 22 columns</p>\n</div>"
     },
     "execution_count": 1,
     "metadata": {},
     "output_type": "execute_result"
    }
   ],
   "source": [
    "import numpy as np\n",
    "import pandas as pd\n",
    "\n",
    "df=pd.read_csv('../../data/laptops.csv')\n",
    "df.head()"
   ]
  },
  {
   "cell_type": "code",
   "execution_count": 5,
   "outputs": [
    {
     "data": {
      "text/plain": "   index  brand  Model  Price  Rating  processor_brand  processor_tier  \\\n0    991     26    991    545      54                4              15   \n\n   num_cores  num_threads  ram_memory  ...  secondary_storage_type  \\\n0         12           15           7  ...                       2   \n\n   secondary_storage_capacity  gpu_brand  gpu_type  is_touch_screen  \\\n0                           4          5         3                2   \n\n   display_size  resolution_width  resolution_height  OS  year_of_warranty  \n0            20                20                 22   7                 4  \n\n[1 rows x 22 columns]",
      "text/html": "<div>\n<style scoped>\n    .dataframe tbody tr th:only-of-type {\n        vertical-align: middle;\n    }\n\n    .dataframe tbody tr th {\n        vertical-align: top;\n    }\n\n    .dataframe thead th {\n        text-align: right;\n    }\n</style>\n<table border=\"1\" class=\"dataframe\">\n  <thead>\n    <tr style=\"text-align: right;\">\n      <th></th>\n      <th>index</th>\n      <th>brand</th>\n      <th>Model</th>\n      <th>Price</th>\n      <th>Rating</th>\n      <th>processor_brand</th>\n      <th>processor_tier</th>\n      <th>num_cores</th>\n      <th>num_threads</th>\n      <th>ram_memory</th>\n      <th>...</th>\n      <th>secondary_storage_type</th>\n      <th>secondary_storage_capacity</th>\n      <th>gpu_brand</th>\n      <th>gpu_type</th>\n      <th>is_touch_screen</th>\n      <th>display_size</th>\n      <th>resolution_width</th>\n      <th>resolution_height</th>\n      <th>OS</th>\n      <th>year_of_warranty</th>\n    </tr>\n  </thead>\n  <tbody>\n    <tr>\n      <th>0</th>\n      <td>991</td>\n      <td>26</td>\n      <td>991</td>\n      <td>545</td>\n      <td>54</td>\n      <td>4</td>\n      <td>15</td>\n      <td>12</td>\n      <td>15</td>\n      <td>7</td>\n      <td>...</td>\n      <td>2</td>\n      <td>4</td>\n      <td>5</td>\n      <td>3</td>\n      <td>2</td>\n      <td>20</td>\n      <td>20</td>\n      <td>22</td>\n      <td>7</td>\n      <td>4</td>\n    </tr>\n  </tbody>\n</table>\n<p>1 rows × 22 columns</p>\n</div>"
     },
     "execution_count": 5,
     "metadata": {},
     "output_type": "execute_result"
    }
   ],
   "source": [
    "# for each column count unique values\n",
    "# transpose this result\n",
    "df.nunique().to_frame().T"
   ],
   "metadata": {
    "collapsed": false,
    "ExecuteTime": {
     "end_time": "2024-05-08T10:13:08.240336Z",
     "start_time": "2024-05-08T10:13:08.229062Z"
    }
   },
   "id": "94958f6edf6b0404"
  },
  {
   "cell_type": "code",
   "execution_count": 7,
   "outputs": [
    {
     "data": {
      "text/plain": "   index  brand  Model  Price  Rating  processor_brand  processor_tier  \\\n0      0      0      0      0       0                0               0   \n\n   num_cores  num_threads  ram_memory  ...  secondary_storage_type  \\\n0          0            0           0  ...                       0   \n\n   secondary_storage_capacity  gpu_brand  gpu_type  is_touch_screen  \\\n0                           0          0         0                0   \n\n   display_size  resolution_width  resolution_height  OS  year_of_warranty  \n0             0                 0                  0   0                 0  \n\n[1 rows x 22 columns]",
      "text/html": "<div>\n<style scoped>\n    .dataframe tbody tr th:only-of-type {\n        vertical-align: middle;\n    }\n\n    .dataframe tbody tr th {\n        vertical-align: top;\n    }\n\n    .dataframe thead th {\n        text-align: right;\n    }\n</style>\n<table border=\"1\" class=\"dataframe\">\n  <thead>\n    <tr style=\"text-align: right;\">\n      <th></th>\n      <th>index</th>\n      <th>brand</th>\n      <th>Model</th>\n      <th>Price</th>\n      <th>Rating</th>\n      <th>processor_brand</th>\n      <th>processor_tier</th>\n      <th>num_cores</th>\n      <th>num_threads</th>\n      <th>ram_memory</th>\n      <th>...</th>\n      <th>secondary_storage_type</th>\n      <th>secondary_storage_capacity</th>\n      <th>gpu_brand</th>\n      <th>gpu_type</th>\n      <th>is_touch_screen</th>\n      <th>display_size</th>\n      <th>resolution_width</th>\n      <th>resolution_height</th>\n      <th>OS</th>\n      <th>year_of_warranty</th>\n    </tr>\n  </thead>\n  <tbody>\n    <tr>\n      <th>0</th>\n      <td>0</td>\n      <td>0</td>\n      <td>0</td>\n      <td>0</td>\n      <td>0</td>\n      <td>0</td>\n      <td>0</td>\n      <td>0</td>\n      <td>0</td>\n      <td>0</td>\n      <td>...</td>\n      <td>0</td>\n      <td>0</td>\n      <td>0</td>\n      <td>0</td>\n      <td>0</td>\n      <td>0</td>\n      <td>0</td>\n      <td>0</td>\n      <td>0</td>\n      <td>0</td>\n    </tr>\n  </tbody>\n</table>\n<p>1 rows × 22 columns</p>\n</div>"
     },
     "execution_count": 7,
     "metadata": {},
     "output_type": "execute_result"
    }
   ],
   "source": [
    "# check for null values\n",
    "df.isnull().sum().to_frame().T"
   ],
   "metadata": {
    "collapsed": false,
    "ExecuteTime": {
     "end_time": "2024-05-08T10:13:29.862405Z",
     "start_time": "2024-05-08T10:13:29.859714Z"
    }
   },
   "id": "bf13671add5845f5"
  },
  {
   "cell_type": "code",
   "execution_count": 9,
   "outputs": [
    {
     "data": {
      "text/plain": "array(['windows', 'mac', 'dos', 'android', 'chrome', 'other', 'ubuntu'],\n      dtype=object)"
     },
     "execution_count": 9,
     "metadata": {},
     "output_type": "execute_result"
    }
   ],
   "source": [
    "# print unique values of os column\n",
    "df['OS'].unique()"
   ],
   "metadata": {
    "collapsed": false,
    "ExecuteTime": {
     "end_time": "2024-05-08T10:14:24.011578Z",
     "start_time": "2024-05-08T10:14:24.006666Z"
    }
   },
   "id": "51133e601a22a759"
  }
 ],
 "metadata": {
  "kernelspec": {
   "display_name": "Python 3",
   "language": "python",
   "name": "python3"
  },
  "language_info": {
   "codemirror_mode": {
    "name": "ipython",
    "version": 2
   },
   "file_extension": ".py",
   "mimetype": "text/x-python",
   "name": "python",
   "nbconvert_exporter": "python",
   "pygments_lexer": "ipython2",
   "version": "2.7.6"
  }
 },
 "nbformat": 4,
 "nbformat_minor": 5
}
