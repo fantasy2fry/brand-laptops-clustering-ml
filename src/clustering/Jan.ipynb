{
 "cells": [
  {
   "cell_type": "code",
   "execution_count": null,
   "id": "initial_id",
   "metadata": {
    "collapsed": true
   },
   "outputs": [],
   "source": [
    "class transformer_1(BaseEstimator, TransformerMixin):\n",
    "    \n",
    "    def fit(self,df,y= None):\n",
    "        return self\n",
    "    \n",
    "    def transform(self,X,y= None):\n",
    "    \n",
    "        X_copy = X.copy()\n",
    "\n",
    "        # Resolution correction\n",
    "        mask = X_copy.resolution_width <= X_copy.resolution_height\n",
    "        X_copy.loc[mask,[\"resolution_width\",\"resolution_height\"]] = X_copy.loc[mask,[\"resolution_height\",\"resolution_width\"]].values\n",
    "\n",
    "        # Processor tier\n",
    "        A = X_copy['processor_tier']\n",
    "        A[A=='celeron'] = 'core i3'\n",
    "        A[A=='pentium'] = 'core i5'\n",
    "        A[A=='m1'] = 'core i5'\n",
    "        A[A=='m2'] = 'core i7'\n",
    "        mask_other_processor_tier = A=='other'\n",
    "        A[A=='other'] = '0'\n",
    "        A = A.apply(lambda x : 0 if len(re.findall(r'\\d+', x))==0 else int(re.findall(r'\\d+', x)[0]))\n",
    "        X_copy['processor_tier'] = A\n",
    "        X_copy['processor_type_other'] = mask_other_processor_tier + 0\n",
    "\n",
    "        # One Hot Encoding\n",
    "        diff1 = pd.get_dummies(X_copy[['processor_brand','OS','gpu_brand','gpu_type']],dtype='int')\n",
    "\n",
    "        # OHEncoding brands\n",
    "        brands_to_keep = ['hp' , 'lenovo' , 'asus','dell','msi','acer','apple']\n",
    "        X_copy['brand'] = X_copy['brand'].apply(lambda x: x if x in brands_to_keep else 'other')\n",
    "        diff2 = pd.get_dummies(X_copy[['brand']],dtype='int')\n",
    "        X_copy = pd.concat([X_copy,diff1,diff2],axis=1)\n",
    "        X_copy = X_copy.drop(['index','Model','brand','OS','processor_brand','gpu_brand','gpu_type'],axis=1)\n",
    "\n",
    "        # Correcting types\n",
    "        X_copy.is_touch_screen = X_copy.is_touch_screen + 0\n",
    "        X_copy.primary_storage_type = (X_copy.primary_storage_type=='SSD') + 0\n",
    "\n",
    "        # year_of_warranty\n",
    "        mask_year_of_war_no =X_copy.year_of_warranty=='No information'\n",
    "        X_copy.loc[mask_year_of_war_no,['year_of_warranty']] = 0\n",
    "        X_copy['year_of_warranty'] = X_copy['year_of_warranty'].apply(lambda x : int(x))\n",
    "        X_copy['year_of_warranty_other'] = mask_year_of_war_no + 0\n",
    "\n",
    "        # secondary_storage_type drop\n",
    "        X_copy = X_copy.drop('secondary_storage_type',axis=1)\n",
    "\n",
    "        # other transformations \n",
    "        X_copy['primary_storage_capacity'] = np.log2(X_copy.primary_storage_capacity)\n",
    "        X_copy['secondary_storage_capacity'] = X_copy['secondary_storage_capacity'].apply(lambda x : max(0,np.log2(x)))\n",
    "        X_copy['resolution_width']  = np.log(X_copy.resolution_width)\n",
    "        X_copy['resolution_height'] = np.log(X_copy.resolution_height) \n",
    "        X_copy['Rating'] = X_copy['Rating']/100\n",
    "\n",
    "        # for i,col in enumerate(self.classes):\n",
    "        #     X_copy[col] = self.minmax[i].fit_transform(X_copy[[col]])\n",
    "        \n",
    "\n",
    "        return X_copy"
   ]
  }
 ],
 "metadata": {
  "kernelspec": {
   "display_name": "Python 3",
   "language": "python",
   "name": "python3"
  },
  "language_info": {
   "codemirror_mode": {
    "name": "ipython",
    "version": 2
   },
   "file_extension": ".py",
   "mimetype": "text/x-python",
   "name": "python",
   "nbconvert_exporter": "python",
   "pygments_lexer": "ipython2",
   "version": "2.7.6"
  }
 },
 "nbformat": 4,
 "nbformat_minor": 5
}
