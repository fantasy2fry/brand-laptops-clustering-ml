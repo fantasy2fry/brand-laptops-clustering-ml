{
 "cells": [
  {
   "cell_type": "code",
   "execution_count": 11,
   "id": "initial_id",
   "metadata": {
    "collapsed": true,
    "ExecuteTime": {
     "end_time": "2024-05-30T10:40:19.863026Z",
     "start_time": "2024-05-30T10:40:19.852650Z"
    }
   },
   "outputs": [],
   "source": [
    "import pandas as pd\n",
    "import numpy as np\n",
    "from bs4 import BeautifulSoup\n",
    "import requests\n"
   ]
  },
  {
   "cell_type": "code",
   "execution_count": 12,
   "outputs": [
    {
     "data": {
      "text/plain": "     index brand                                              Model   Price  \\\n0      949   msi  MSI Modern 15 B7M-072IN Laptop (Ryzen 5 7530U/...   43990   \n1      584   msi  MSI Prestige 16 A13UCX-250IN Laptop (13th Gen ...  119990   \n2      937  acer  Acer Aspire 7 A715-75G Gaming Laptop (10th Gen...   45990   \n3      416   msi  MSI CreatorPro Z16 HX B13VKTO-214IN Laptop (13...  449990   \n4      538  acer  Acer Aspire 3 Spin 14 NX.KENSI.002 Laptop (Int...   41490   \n..     ...   ...                                                ...     ...   \n688    114  acer  Acer Aspire Lite AL15 Laptop (AMD Ryzen 5 5500...   37990   \n689    281    hp  HP Victus 15-fb0050AX Gaming Laptop (AMD Ryzen...   59871   \n690    872  dell  Dell Vostro 15 3510 2023 Laptop (11th Gen Core...   47990   \n691    447    hp  HP 240 G9 821J4PA Laptop (12th Gen Core i5/ 8G...   74999   \n692    109    hp  HP Victus15-fb0147AX Gaming Laptop (Ryzen 5 56...   49775   \n\n     Rating processor_brand processor_tier  num_cores  num_threads  \\\n0        53             amd        ryzen 5          6           12   \n1        73           intel        core i7         14           20   \n2        59           intel        core i5          4            8   \n3        89           intel        core i9         24           32   \n4        45           intel        core i3          8            8   \n..      ...             ...            ...        ...          ...   \n688      60             amd        ryzen 5          6           12   \n689      71             amd        ryzen 5          6           12   \n690      63           intel        core i5          4            8   \n691      64           intel        core i5         10           12   \n692      62             amd        ryzen 5          6           12   \n\n     ram_memory  ... secondary_storage_type  secondary_storage_capacity  \\\n0             8  ...   No secondary storage                           0   \n1            16  ...   No secondary storage                           0   \n2             8  ...   No secondary storage                           0   \n3             4  ...   No secondary storage                           0   \n4             8  ...   No secondary storage                           0   \n..          ...  ...                    ...                         ...   \n688          16  ...   No secondary storage                           0   \n689           8  ...   No secondary storage                           0   \n690           8  ...   No secondary storage                           0   \n691           8  ...   No secondary storage                           0   \n692           8  ...   No secondary storage                           0   \n\n    gpu_brand    gpu_type is_touch_screen display_size  resolution_width  \\\n0         amd  integrated           False         15.6              1920   \n1      nvidia   dedicated           False         16.0              2560   \n2      nvidia   dedicated           False         15.6              1920   \n3      nvidia   dedicated           False         16.0              2560   \n4       intel  integrated           False         14.0              1920   \n..        ...         ...             ...          ...               ...   \n688       amd  integrated           False         15.6              1920   \n689    nvidia   dedicated           False         15.6              1920   \n690     intel  integrated           False         15.6              1920   \n691     intel  integrated           False         14.0              1366   \n692       amd   dedicated           False         15.6              1920   \n\n     resolution_height       OS  year_of_warranty  \n0                 1080  windows                 1  \n1                 1600  windows                 2  \n2                 1080  windows                 1  \n3                 1600  windows                 2  \n4                 1200  windows                 1  \n..                 ...      ...               ...  \n688               1080  windows                 1  \n689               1080  windows                 1  \n690               1080  windows                 1  \n691                768  windows                 1  \n692               1080  windows                 1  \n\n[693 rows x 22 columns]",
      "text/html": "<div>\n<style scoped>\n    .dataframe tbody tr th:only-of-type {\n        vertical-align: middle;\n    }\n\n    .dataframe tbody tr th {\n        vertical-align: top;\n    }\n\n    .dataframe thead th {\n        text-align: right;\n    }\n</style>\n<table border=\"1\" class=\"dataframe\">\n  <thead>\n    <tr style=\"text-align: right;\">\n      <th></th>\n      <th>index</th>\n      <th>brand</th>\n      <th>Model</th>\n      <th>Price</th>\n      <th>Rating</th>\n      <th>processor_brand</th>\n      <th>processor_tier</th>\n      <th>num_cores</th>\n      <th>num_threads</th>\n      <th>ram_memory</th>\n      <th>...</th>\n      <th>secondary_storage_type</th>\n      <th>secondary_storage_capacity</th>\n      <th>gpu_brand</th>\n      <th>gpu_type</th>\n      <th>is_touch_screen</th>\n      <th>display_size</th>\n      <th>resolution_width</th>\n      <th>resolution_height</th>\n      <th>OS</th>\n      <th>year_of_warranty</th>\n    </tr>\n  </thead>\n  <tbody>\n    <tr>\n      <th>0</th>\n      <td>949</td>\n      <td>msi</td>\n      <td>MSI Modern 15 B7M-072IN Laptop (Ryzen 5 7530U/...</td>\n      <td>43990</td>\n      <td>53</td>\n      <td>amd</td>\n      <td>ryzen 5</td>\n      <td>6</td>\n      <td>12</td>\n      <td>8</td>\n      <td>...</td>\n      <td>No secondary storage</td>\n      <td>0</td>\n      <td>amd</td>\n      <td>integrated</td>\n      <td>False</td>\n      <td>15.6</td>\n      <td>1920</td>\n      <td>1080</td>\n      <td>windows</td>\n      <td>1</td>\n    </tr>\n    <tr>\n      <th>1</th>\n      <td>584</td>\n      <td>msi</td>\n      <td>MSI Prestige 16 A13UCX-250IN Laptop (13th Gen ...</td>\n      <td>119990</td>\n      <td>73</td>\n      <td>intel</td>\n      <td>core i7</td>\n      <td>14</td>\n      <td>20</td>\n      <td>16</td>\n      <td>...</td>\n      <td>No secondary storage</td>\n      <td>0</td>\n      <td>nvidia</td>\n      <td>dedicated</td>\n      <td>False</td>\n      <td>16.0</td>\n      <td>2560</td>\n      <td>1600</td>\n      <td>windows</td>\n      <td>2</td>\n    </tr>\n    <tr>\n      <th>2</th>\n      <td>937</td>\n      <td>acer</td>\n      <td>Acer Aspire 7 A715-75G Gaming Laptop (10th Gen...</td>\n      <td>45990</td>\n      <td>59</td>\n      <td>intel</td>\n      <td>core i5</td>\n      <td>4</td>\n      <td>8</td>\n      <td>8</td>\n      <td>...</td>\n      <td>No secondary storage</td>\n      <td>0</td>\n      <td>nvidia</td>\n      <td>dedicated</td>\n      <td>False</td>\n      <td>15.6</td>\n      <td>1920</td>\n      <td>1080</td>\n      <td>windows</td>\n      <td>1</td>\n    </tr>\n    <tr>\n      <th>3</th>\n      <td>416</td>\n      <td>msi</td>\n      <td>MSI CreatorPro Z16 HX B13VKTO-214IN Laptop (13...</td>\n      <td>449990</td>\n      <td>89</td>\n      <td>intel</td>\n      <td>core i9</td>\n      <td>24</td>\n      <td>32</td>\n      <td>4</td>\n      <td>...</td>\n      <td>No secondary storage</td>\n      <td>0</td>\n      <td>nvidia</td>\n      <td>dedicated</td>\n      <td>False</td>\n      <td>16.0</td>\n      <td>2560</td>\n      <td>1600</td>\n      <td>windows</td>\n      <td>2</td>\n    </tr>\n    <tr>\n      <th>4</th>\n      <td>538</td>\n      <td>acer</td>\n      <td>Acer Aspire 3 Spin 14 NX.KENSI.002 Laptop (Int...</td>\n      <td>41490</td>\n      <td>45</td>\n      <td>intel</td>\n      <td>core i3</td>\n      <td>8</td>\n      <td>8</td>\n      <td>8</td>\n      <td>...</td>\n      <td>No secondary storage</td>\n      <td>0</td>\n      <td>intel</td>\n      <td>integrated</td>\n      <td>False</td>\n      <td>14.0</td>\n      <td>1920</td>\n      <td>1200</td>\n      <td>windows</td>\n      <td>1</td>\n    </tr>\n    <tr>\n      <th>...</th>\n      <td>...</td>\n      <td>...</td>\n      <td>...</td>\n      <td>...</td>\n      <td>...</td>\n      <td>...</td>\n      <td>...</td>\n      <td>...</td>\n      <td>...</td>\n      <td>...</td>\n      <td>...</td>\n      <td>...</td>\n      <td>...</td>\n      <td>...</td>\n      <td>...</td>\n      <td>...</td>\n      <td>...</td>\n      <td>...</td>\n      <td>...</td>\n      <td>...</td>\n      <td>...</td>\n    </tr>\n    <tr>\n      <th>688</th>\n      <td>114</td>\n      <td>acer</td>\n      <td>Acer Aspire Lite AL15 Laptop (AMD Ryzen 5 5500...</td>\n      <td>37990</td>\n      <td>60</td>\n      <td>amd</td>\n      <td>ryzen 5</td>\n      <td>6</td>\n      <td>12</td>\n      <td>16</td>\n      <td>...</td>\n      <td>No secondary storage</td>\n      <td>0</td>\n      <td>amd</td>\n      <td>integrated</td>\n      <td>False</td>\n      <td>15.6</td>\n      <td>1920</td>\n      <td>1080</td>\n      <td>windows</td>\n      <td>1</td>\n    </tr>\n    <tr>\n      <th>689</th>\n      <td>281</td>\n      <td>hp</td>\n      <td>HP Victus 15-fb0050AX Gaming Laptop (AMD Ryzen...</td>\n      <td>59871</td>\n      <td>71</td>\n      <td>amd</td>\n      <td>ryzen 5</td>\n      <td>6</td>\n      <td>12</td>\n      <td>8</td>\n      <td>...</td>\n      <td>No secondary storage</td>\n      <td>0</td>\n      <td>nvidia</td>\n      <td>dedicated</td>\n      <td>False</td>\n      <td>15.6</td>\n      <td>1920</td>\n      <td>1080</td>\n      <td>windows</td>\n      <td>1</td>\n    </tr>\n    <tr>\n      <th>690</th>\n      <td>872</td>\n      <td>dell</td>\n      <td>Dell Vostro 15 3510 2023 Laptop (11th Gen Core...</td>\n      <td>47990</td>\n      <td>63</td>\n      <td>intel</td>\n      <td>core i5</td>\n      <td>4</td>\n      <td>8</td>\n      <td>8</td>\n      <td>...</td>\n      <td>No secondary storage</td>\n      <td>0</td>\n      <td>intel</td>\n      <td>integrated</td>\n      <td>False</td>\n      <td>15.6</td>\n      <td>1920</td>\n      <td>1080</td>\n      <td>windows</td>\n      <td>1</td>\n    </tr>\n    <tr>\n      <th>691</th>\n      <td>447</td>\n      <td>hp</td>\n      <td>HP 240 G9 821J4PA Laptop (12th Gen Core i5/ 8G...</td>\n      <td>74999</td>\n      <td>64</td>\n      <td>intel</td>\n      <td>core i5</td>\n      <td>10</td>\n      <td>12</td>\n      <td>8</td>\n      <td>...</td>\n      <td>No secondary storage</td>\n      <td>0</td>\n      <td>intel</td>\n      <td>integrated</td>\n      <td>False</td>\n      <td>14.0</td>\n      <td>1366</td>\n      <td>768</td>\n      <td>windows</td>\n      <td>1</td>\n    </tr>\n    <tr>\n      <th>692</th>\n      <td>109</td>\n      <td>hp</td>\n      <td>HP Victus15-fb0147AX Gaming Laptop (Ryzen 5 56...</td>\n      <td>49775</td>\n      <td>62</td>\n      <td>amd</td>\n      <td>ryzen 5</td>\n      <td>6</td>\n      <td>12</td>\n      <td>8</td>\n      <td>...</td>\n      <td>No secondary storage</td>\n      <td>0</td>\n      <td>amd</td>\n      <td>dedicated</td>\n      <td>False</td>\n      <td>15.6</td>\n      <td>1920</td>\n      <td>1080</td>\n      <td>windows</td>\n      <td>1</td>\n    </tr>\n  </tbody>\n</table>\n<p>693 rows × 22 columns</p>\n</div>"
     },
     "execution_count": 12,
     "metadata": {},
     "output_type": "execute_result"
    }
   ],
   "source": [
    "df=pd.read_csv('../../data/modelers_data.csv')\n",
    "df"
   ],
   "metadata": {
    "collapsed": false,
    "ExecuteTime": {
     "end_time": "2024-05-30T10:40:19.994005Z",
     "start_time": "2024-05-30T10:40:19.978448Z"
    }
   },
   "id": "f6d3191708347f7"
  },
  {
   "cell_type": "code",
   "execution_count": 13,
   "outputs": [
    {
     "data": {
      "text/plain": "0      MSI Modern 15 B7M-072IN Laptop (Ryzen 5 7530U/...\n1      MSI Prestige 16 A13UCX-250IN Laptop (13th Gen ...\n2      Acer Aspire 7 A715-75G Gaming Laptop (10th Gen...\n3      MSI CreatorPro Z16 HX B13VKTO-214IN Laptop (13...\n4      Acer Aspire 3 Spin 14 NX.KENSI.002 Laptop (Int...\n                             ...                        \n688    Acer Aspire Lite AL15 Laptop (AMD Ryzen 5 5500...\n689    HP Victus 15-fb0050AX Gaming Laptop (AMD Ryzen...\n690    Dell Vostro 15 3510 2023 Laptop (11th Gen Core...\n691    HP 240 G9 821J4PA Laptop (12th Gen Core i5/ 8G...\n692    HP Victus15-fb0147AX Gaming Laptop (Ryzen 5 56...\nName: Model, Length: 693, dtype: object"
     },
     "execution_count": 13,
     "metadata": {},
     "output_type": "execute_result"
    }
   ],
   "source": [
    "model_names=df['Model']\n",
    "model_names"
   ],
   "metadata": {
    "collapsed": false,
    "ExecuteTime": {
     "end_time": "2024-05-30T10:40:20.333239Z",
     "start_time": "2024-05-30T10:40:20.246509Z"
    }
   },
   "id": "9721d326ecba2af2"
  },
  {
   "cell_type": "code",
   "execution_count": 14,
   "outputs": [
    {
     "data": {
      "text/plain": "0                    MSI Modern 15\n1                  MSI Prestige 16\n2                    Acer Aspire 7\n3               MSI CreatorPro Z16\n4                    Acer Aspire 3\n                  ...             \n688               Acer Aspire Lite\n689          HP Victus 15-fb0050AX\n690                 Dell Vostro 15\n691                      HP 240 G9\n692    HP Victus15-fb0147AX Gaming\nName: Model, Length: 693, dtype: object"
     },
     "execution_count": 14,
     "metadata": {},
     "output_type": "execute_result"
    }
   ],
   "source": [
    "# take whole name until (\n",
    "model_names=model_names.str.split(' ').str[:3]\n",
    "model_names=model_names.str.join(' ')\n",
    "model_names"
   ],
   "metadata": {
    "collapsed": false,
    "ExecuteTime": {
     "end_time": "2024-05-30T10:40:20.399740Z",
     "start_time": "2024-05-30T10:40:20.351565Z"
    }
   },
   "id": "8548a79d42efb031"
  },
  {
   "cell_type": "code",
   "execution_count": 18,
   "outputs": [
    {
     "name": "stdout",
     "output_type": "stream",
     "text": [
      "Not found\n"
     ]
    }
   ],
   "source": [
    "def get_laptop_gpu(laptop_name):\n",
    "    laptop_name=laptop_name.replace(' ','+')\n",
    "    url=f'https://www.morele.net/wyszukiwarka/?q={laptop_name}&d=0'\n",
    "    headers = {'User-Agent': 'Mozilla/5.0'}\n",
    "    page = requests.get(url, headers=headers)\n",
    "    soup = BeautifulSoup(page.content, 'html.parser')\n",
    "    try:\n",
    "        gpu=soup.find('div',class_='product-item__info').find('div',class_='product-item__info__spec').find('div',class_='product-item__info__spec__item').find('a').text\n",
    "    except:\n",
    "        gpu='Not found'\n",
    "        \n",
    "    return gpu\n",
    "\n",
    "print(get_laptop_gpu('Apple Macbook'))\n",
    "    "
   ],
   "metadata": {
    "collapsed": false,
    "ExecuteTime": {
     "end_time": "2024-05-30T10:48:52.213603Z",
     "start_time": "2024-05-30T10:48:51.079870Z"
    }
   },
   "id": "2bd602dbc0a99b41"
  }
 ],
 "metadata": {
  "kernelspec": {
   "display_name": "Python 3",
   "language": "python",
   "name": "python3"
  },
  "language_info": {
   "codemirror_mode": {
    "name": "ipython",
    "version": 2
   },
   "file_extension": ".py",
   "mimetype": "text/x-python",
   "name": "python",
   "nbconvert_exporter": "python",
   "pygments_lexer": "ipython2",
   "version": "2.7.6"
  }
 },
 "nbformat": 4,
 "nbformat_minor": 5
}
